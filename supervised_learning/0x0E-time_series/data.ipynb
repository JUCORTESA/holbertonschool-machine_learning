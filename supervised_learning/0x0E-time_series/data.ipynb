{
 "cells": [
  {
   "cell_type": "code",
   "execution_count": 141,
   "metadata": {},
   "outputs": [],
   "source": [
    "#%tensorflow_version 1.x\n",
    "import os\n",
    "import datetime as dt\n",
    "\n",
    "import IPython\n",
    "import IPython.display\n",
    "import matplotlib as mpl\n",
    "import matplotlib.pyplot as plt\n",
    "import numpy as np\n",
    "import pandas as pd\n",
    "import seaborn as sns\n",
    "import tensorflow as tf"
   ]
  },
  {
   "cell_type": "code",
   "execution_count": 142,
   "metadata": {},
   "outputs": [],
   "source": [
    "df_bit = pd.read_csv(\"data/bitstampUSD_1-min_data_2012-01-01_to_2020-04-22.csv\")\n",
    "df_coin = pd.read_csv(\"data/coinbaseUSD_1-min_data_2014-12-01_to_2019-01-09.csv\")"
   ]
  },
  {
   "cell_type": "code",
   "execution_count": 143,
   "metadata": {},
   "outputs": [
    {
     "data": {
      "text/plain": [
       "Index(['Timestamp', 'Open', 'High', 'Low', 'Close', 'Volume_(BTC)',\n",
       "       'Volume_(Currency)', 'Weighted_Price'],\n",
       "      dtype='object')"
      ]
     },
     "execution_count": 143,
     "metadata": {},
     "output_type": "execute_result"
    }
   ],
   "source": [
    "df_bit.columns"
   ]
  },
  {
   "cell_type": "code",
   "execution_count": 144,
   "metadata": {},
   "outputs": [
    {
     "data": {
      "text/html": [
       "<div>\n",
       "<style scoped>\n",
       "    .dataframe tbody tr th:only-of-type {\n",
       "        vertical-align: middle;\n",
       "    }\n",
       "\n",
       "    .dataframe tbody tr th {\n",
       "        vertical-align: top;\n",
       "    }\n",
       "\n",
       "    .dataframe thead th {\n",
       "        text-align: right;\n",
       "    }\n",
       "</style>\n",
       "<table border=\"1\" class=\"dataframe\">\n",
       "  <thead>\n",
       "    <tr style=\"text-align: right;\">\n",
       "      <th></th>\n",
       "      <th>count</th>\n",
       "      <th>mean</th>\n",
       "      <th>std</th>\n",
       "      <th>min</th>\n",
       "      <th>25%</th>\n",
       "      <th>50%</th>\n",
       "      <th>75%</th>\n",
       "      <th>max</th>\n",
       "    </tr>\n",
       "  </thead>\n",
       "  <tbody>\n",
       "    <tr>\n",
       "      <th>Timestamp</th>\n",
       "      <td>4363457.0</td>\n",
       "      <td>1.456469e+09</td>\n",
       "      <td>7.573296e+07</td>\n",
       "      <td>1.325318e+09</td>\n",
       "      <td>1.390770e+09</td>\n",
       "      <td>1.456610e+09</td>\n",
       "      <td>1.522062e+09</td>\n",
       "      <td>1.587514e+09</td>\n",
       "    </tr>\n",
       "    <tr>\n",
       "      <th>Open</th>\n",
       "      <td>3126480.0</td>\n",
       "      <td>3.674656e+03</td>\n",
       "      <td>3.935578e+03</td>\n",
       "      <td>3.800000e+00</td>\n",
       "      <td>4.100000e+02</td>\n",
       "      <td>1.175140e+03</td>\n",
       "      <td>6.931175e+03</td>\n",
       "      <td>1.966576e+04</td>\n",
       "    </tr>\n",
       "    <tr>\n",
       "      <th>High</th>\n",
       "      <td>3126480.0</td>\n",
       "      <td>3.677366e+03</td>\n",
       "      <td>3.939077e+03</td>\n",
       "      <td>3.800000e+00</td>\n",
       "      <td>4.102400e+02</td>\n",
       "      <td>1.175770e+03</td>\n",
       "      <td>6.935780e+03</td>\n",
       "      <td>1.966600e+04</td>\n",
       "    </tr>\n",
       "    <tr>\n",
       "      <th>Low</th>\n",
       "      <td>3126480.0</td>\n",
       "      <td>3.671730e+03</td>\n",
       "      <td>3.931713e+03</td>\n",
       "      <td>1.500000e+00</td>\n",
       "      <td>4.098300e+02</td>\n",
       "      <td>1.174825e+03</td>\n",
       "      <td>6.926790e+03</td>\n",
       "      <td>1.964996e+04</td>\n",
       "    </tr>\n",
       "    <tr>\n",
       "      <th>Close</th>\n",
       "      <td>3126480.0</td>\n",
       "      <td>3.674595e+03</td>\n",
       "      <td>3.935490e+03</td>\n",
       "      <td>1.500000e+00</td>\n",
       "      <td>4.100000e+02</td>\n",
       "      <td>1.175140e+03</td>\n",
       "      <td>6.931225e+03</td>\n",
       "      <td>1.966575e+04</td>\n",
       "    </tr>\n",
       "    <tr>\n",
       "      <th>Volume_(BTC)</th>\n",
       "      <td>3126480.0</td>\n",
       "      <td>9.855040e+00</td>\n",
       "      <td>3.229272e+01</td>\n",
       "      <td>0.000000e+00</td>\n",
       "      <td>3.988120e-01</td>\n",
       "      <td>1.990000e+00</td>\n",
       "      <td>7.639098e+00</td>\n",
       "      <td>5.853852e+03</td>\n",
       "    </tr>\n",
       "    <tr>\n",
       "      <th>Volume_(Currency)</th>\n",
       "      <td>3126480.0</td>\n",
       "      <td>2.884459e+04</td>\n",
       "      <td>1.010277e+05</td>\n",
       "      <td>0.000000e+00</td>\n",
       "      <td>3.503759e+02</td>\n",
       "      <td>2.620491e+03</td>\n",
       "      <td>1.760057e+04</td>\n",
       "      <td>7.569437e+06</td>\n",
       "    </tr>\n",
       "    <tr>\n",
       "      <th>Weighted_Price</th>\n",
       "      <td>3126480.0</td>\n",
       "      <td>3.674570e+03</td>\n",
       "      <td>3.935458e+03</td>\n",
       "      <td>3.800000e+00</td>\n",
       "      <td>4.099998e+02</td>\n",
       "      <td>1.175200e+03</td>\n",
       "      <td>6.931180e+03</td>\n",
       "      <td>1.966330e+04</td>\n",
       "    </tr>\n",
       "  </tbody>\n",
       "</table>\n",
       "</div>"
      ],
      "text/plain": [
       "                       count          mean           std           min  \\\n",
       "Timestamp          4363457.0  1.456469e+09  7.573296e+07  1.325318e+09   \n",
       "Open               3126480.0  3.674656e+03  3.935578e+03  3.800000e+00   \n",
       "High               3126480.0  3.677366e+03  3.939077e+03  3.800000e+00   \n",
       "Low                3126480.0  3.671730e+03  3.931713e+03  1.500000e+00   \n",
       "Close              3126480.0  3.674595e+03  3.935490e+03  1.500000e+00   \n",
       "Volume_(BTC)       3126480.0  9.855040e+00  3.229272e+01  0.000000e+00   \n",
       "Volume_(Currency)  3126480.0  2.884459e+04  1.010277e+05  0.000000e+00   \n",
       "Weighted_Price     3126480.0  3.674570e+03  3.935458e+03  3.800000e+00   \n",
       "\n",
       "                            25%           50%           75%           max  \n",
       "Timestamp          1.390770e+09  1.456610e+09  1.522062e+09  1.587514e+09  \n",
       "Open               4.100000e+02  1.175140e+03  6.931175e+03  1.966576e+04  \n",
       "High               4.102400e+02  1.175770e+03  6.935780e+03  1.966600e+04  \n",
       "Low                4.098300e+02  1.174825e+03  6.926790e+03  1.964996e+04  \n",
       "Close              4.100000e+02  1.175140e+03  6.931225e+03  1.966575e+04  \n",
       "Volume_(BTC)       3.988120e-01  1.990000e+00  7.639098e+00  5.853852e+03  \n",
       "Volume_(Currency)  3.503759e+02  2.620491e+03  1.760057e+04  7.569437e+06  \n",
       "Weighted_Price     4.099998e+02  1.175200e+03  6.931180e+03  1.966330e+04  "
      ]
     },
     "execution_count": 144,
     "metadata": {},
     "output_type": "execute_result"
    }
   ],
   "source": [
    "df_bit.describe().transpose()"
   ]
  },
  {
   "cell_type": "code",
   "execution_count": 145,
   "metadata": {},
   "outputs": [
    {
     "data": {
      "text/html": [
       "<div>\n",
       "<style scoped>\n",
       "    .dataframe tbody tr th:only-of-type {\n",
       "        vertical-align: middle;\n",
       "    }\n",
       "\n",
       "    .dataframe tbody tr th {\n",
       "        vertical-align: top;\n",
       "    }\n",
       "\n",
       "    .dataframe thead th {\n",
       "        text-align: right;\n",
       "    }\n",
       "</style>\n",
       "<table border=\"1\" class=\"dataframe\">\n",
       "  <thead>\n",
       "    <tr style=\"text-align: right;\">\n",
       "      <th></th>\n",
       "      <th>count</th>\n",
       "      <th>mean</th>\n",
       "      <th>std</th>\n",
       "      <th>min</th>\n",
       "      <th>25%</th>\n",
       "      <th>50%</th>\n",
       "      <th>75%</th>\n",
       "      <th>max</th>\n",
       "    </tr>\n",
       "  </thead>\n",
       "  <tbody>\n",
       "    <tr>\n",
       "      <th>Timestamp</th>\n",
       "      <td>2099760.0</td>\n",
       "      <td>1.483899e+09</td>\n",
       "      <td>3.638214e+07</td>\n",
       "      <td>1.417412e+09</td>\n",
       "      <td>1.452410e+09</td>\n",
       "      <td>1.483906e+09</td>\n",
       "      <td>1.515402e+09</td>\n",
       "      <td>1.546899e+09</td>\n",
       "    </tr>\n",
       "    <tr>\n",
       "      <th>Open</th>\n",
       "      <td>1990691.0</td>\n",
       "      <td>3.246403e+03</td>\n",
       "      <td>3.799154e+03</td>\n",
       "      <td>6.000000e-02</td>\n",
       "      <td>4.195800e+02</td>\n",
       "      <td>1.014580e+03</td>\n",
       "      <td>6.322630e+03</td>\n",
       "      <td>1.989199e+04</td>\n",
       "    </tr>\n",
       "    <tr>\n",
       "      <th>High</th>\n",
       "      <td>1990691.0</td>\n",
       "      <td>3.247829e+03</td>\n",
       "      <td>3.801394e+03</td>\n",
       "      <td>6.000000e-02</td>\n",
       "      <td>4.196400e+02</td>\n",
       "      <td>1.014890e+03</td>\n",
       "      <td>6.324010e+03</td>\n",
       "      <td>1.989199e+04</td>\n",
       "    </tr>\n",
       "    <tr>\n",
       "      <th>Low</th>\n",
       "      <td>1990691.0</td>\n",
       "      <td>3.244856e+03</td>\n",
       "      <td>3.796761e+03</td>\n",
       "      <td>6.000000e-02</td>\n",
       "      <td>4.195000e+02</td>\n",
       "      <td>1.014150e+03</td>\n",
       "      <td>6.321090e+03</td>\n",
       "      <td>1.989198e+04</td>\n",
       "    </tr>\n",
       "    <tr>\n",
       "      <th>Close</th>\n",
       "      <td>1990691.0</td>\n",
       "      <td>3.246403e+03</td>\n",
       "      <td>3.799150e+03</td>\n",
       "      <td>6.000000e-02</td>\n",
       "      <td>4.195700e+02</td>\n",
       "      <td>1.014530e+03</td>\n",
       "      <td>6.322670e+03</td>\n",
       "      <td>1.989199e+04</td>\n",
       "    </tr>\n",
       "    <tr>\n",
       "      <th>Volume_(BTC)</th>\n",
       "      <td>1990691.0</td>\n",
       "      <td>7.849139e+00</td>\n",
       "      <td>1.873222e+01</td>\n",
       "      <td>1.000000e-08</td>\n",
       "      <td>9.024000e-01</td>\n",
       "      <td>2.692900e+00</td>\n",
       "      <td>7.600965e+00</td>\n",
       "      <td>1.563267e+03</td>\n",
       "    </tr>\n",
       "    <tr>\n",
       "      <th>Volume_(Currency)</th>\n",
       "      <td>1990691.0</td>\n",
       "      <td>3.600157e+04</td>\n",
       "      <td>1.401879e+05</td>\n",
       "      <td>2.641700e-06</td>\n",
       "      <td>6.440031e+02</td>\n",
       "      <td>3.695642e+03</td>\n",
       "      <td>1.972392e+04</td>\n",
       "      <td>1.997076e+07</td>\n",
       "    </tr>\n",
       "    <tr>\n",
       "      <th>Weighted_Price</th>\n",
       "      <td>1990691.0</td>\n",
       "      <td>3.246341e+03</td>\n",
       "      <td>3.799078e+03</td>\n",
       "      <td>6.000000e-02</td>\n",
       "      <td>4.195645e+02</td>\n",
       "      <td>1.014512e+03</td>\n",
       "      <td>6.322550e+03</td>\n",
       "      <td>1.989199e+04</td>\n",
       "    </tr>\n",
       "  </tbody>\n",
       "</table>\n",
       "</div>"
      ],
      "text/plain": [
       "                       count          mean           std           min  \\\n",
       "Timestamp          2099760.0  1.483899e+09  3.638214e+07  1.417412e+09   \n",
       "Open               1990691.0  3.246403e+03  3.799154e+03  6.000000e-02   \n",
       "High               1990691.0  3.247829e+03  3.801394e+03  6.000000e-02   \n",
       "Low                1990691.0  3.244856e+03  3.796761e+03  6.000000e-02   \n",
       "Close              1990691.0  3.246403e+03  3.799150e+03  6.000000e-02   \n",
       "Volume_(BTC)       1990691.0  7.849139e+00  1.873222e+01  1.000000e-08   \n",
       "Volume_(Currency)  1990691.0  3.600157e+04  1.401879e+05  2.641700e-06   \n",
       "Weighted_Price     1990691.0  3.246341e+03  3.799078e+03  6.000000e-02   \n",
       "\n",
       "                            25%           50%           75%           max  \n",
       "Timestamp          1.452410e+09  1.483906e+09  1.515402e+09  1.546899e+09  \n",
       "Open               4.195800e+02  1.014580e+03  6.322630e+03  1.989199e+04  \n",
       "High               4.196400e+02  1.014890e+03  6.324010e+03  1.989199e+04  \n",
       "Low                4.195000e+02  1.014150e+03  6.321090e+03  1.989198e+04  \n",
       "Close              4.195700e+02  1.014530e+03  6.322670e+03  1.989199e+04  \n",
       "Volume_(BTC)       9.024000e-01  2.692900e+00  7.600965e+00  1.563267e+03  \n",
       "Volume_(Currency)  6.440031e+02  3.695642e+03  1.972392e+04  1.997076e+07  \n",
       "Weighted_Price     4.195645e+02  1.014512e+03  6.322550e+03  1.989199e+04  "
      ]
     },
     "execution_count": 145,
     "metadata": {},
     "output_type": "execute_result"
    }
   ],
   "source": [
    "df_coin.describe().transpose()"
   ]
  },
  {
   "cell_type": "code",
   "execution_count": 146,
   "metadata": {},
   "outputs": [],
   "source": [
    "df_coin['Timestamp'] = pd.to_datetime(df_coin['Timestamp'], unit='s')\n",
    "df_bit['Timestamp'] = pd.to_datetime(df_bit['Timestamp'], unit='s')"
   ]
  },
  {
   "cell_type": "code",
   "execution_count": 147,
   "metadata": {},
   "outputs": [
    {
     "data": {
      "text/plain": [
       "0   2011-12-31 07:52:00\n",
       "1   2011-12-31 07:53:00\n",
       "2   2011-12-31 07:54:00\n",
       "3   2011-12-31 07:55:00\n",
       "4   2011-12-31 07:56:00\n",
       "Name: Timestamp, dtype: datetime64[ns]"
      ]
     },
     "execution_count": 147,
     "metadata": {},
     "output_type": "execute_result"
    }
   ],
   "source": [
    "df_bit['Timestamp'].head()"
   ]
  },
  {
   "cell_type": "code",
   "execution_count": 148,
   "metadata": {},
   "outputs": [
    {
     "name": "stdout",
     "output_type": "stream",
     "text": [
      "Timestamp                  0\n",
      "Open                 1236977\n",
      "High                 1236977\n",
      "Low                  1236977\n",
      "Close                1236977\n",
      "Volume_(BTC)         1236977\n",
      "Volume_(Currency)    1236977\n",
      "Weighted_Price       1236977\n",
      "dtype: int64\n"
     ]
    }
   ],
   "source": [
    "print(df_bit.isnull().sum())"
   ]
  },
  {
   "cell_type": "code",
   "execution_count": 149,
   "metadata": {},
   "outputs": [
    {
     "name": "stdout",
     "output_type": "stream",
     "text": [
      "RangeIndex(start=0, stop=4363457, step=1)\n",
      "RangeIndex(start=0, stop=2099760, step=1)\n"
     ]
    }
   ],
   "source": [
    "print(df_bit.index)\n",
    "print(df_coin.index)"
   ]
  },
  {
   "cell_type": "code",
   "execution_count": 150,
   "metadata": {},
   "outputs": [],
   "source": [
    "new_df = pd.concat([df_bit, df_coin], ignore_index=True)"
   ]
  },
  {
   "cell_type": "code",
   "execution_count": 151,
   "metadata": {},
   "outputs": [
    {
     "data": {
      "text/plain": [
       "6463217"
      ]
     },
     "execution_count": 151,
     "metadata": {},
     "output_type": "execute_result"
    }
   ],
   "source": [
    "len(new_df)"
   ]
  },
  {
   "cell_type": "code",
   "execution_count": 152,
   "metadata": {},
   "outputs": [],
   "source": [
    "new_df.drop_duplicates(subset =\"Timestamp\", inplace = True)"
   ]
  },
  {
   "cell_type": "code",
   "execution_count": 153,
   "metadata": {},
   "outputs": [
    {
     "data": {
      "text/plain": [
       "4368710    False\n",
       "1454858    False\n",
       "1454872    False\n",
       "1454871    False\n",
       "1454870    False\n",
       "           ...  \n",
       "2909722    False\n",
       "2909721    False\n",
       "2909720    False\n",
       "2909719    False\n",
       "0          False\n",
       "Length: 4364593, dtype: bool"
      ]
     },
     "execution_count": 153,
     "metadata": {},
     "output_type": "execute_result"
    }
   ],
   "source": [
    "new_df.duplicated().sort_values(ascending=False)"
   ]
  },
  {
   "cell_type": "code",
   "execution_count": 154,
   "metadata": {},
   "outputs": [
    {
     "data": {
      "text/plain": [
       "(4364593, 8)"
      ]
     },
     "execution_count": 154,
     "metadata": {},
     "output_type": "execute_result"
    }
   ],
   "source": [
    "new_df.shape"
   ]
  },
  {
   "cell_type": "code",
   "execution_count": 155,
   "metadata": {},
   "outputs": [],
   "source": [
    "new_df.index = new_df['Timestamp']\n",
    "new_df[new_df.columns.values] = new_df[new_df.columns.values].ffill()\n",
    "new_df = new_df.resample('H').agg({'Open': 'mean', 'High': 'mean', 'Low': 'mean',\n",
    "                                       'Close': 'mean', 'Volume_(BTC)': 'sum',\n",
    "                                       'Volume_(Currency)': 'sum', 'Weighted_Price': 'mean'})"
   ]
  },
  {
   "cell_type": "code",
   "execution_count": 156,
   "metadata": {},
   "outputs": [
    {
     "data": {
      "text/plain": [
       "(72834, 7)"
      ]
     },
     "execution_count": 156,
     "metadata": {},
     "output_type": "execute_result"
    }
   ],
   "source": [
    "new_df.shape"
   ]
  },
  {
   "cell_type": "code",
   "execution_count": 157,
   "metadata": {},
   "outputs": [
    {
     "name": "stdout",
     "output_type": "stream",
     "text": [
      "Open                 87\n",
      "High                 87\n",
      "Low                  87\n",
      "Close                87\n",
      "Volume_(BTC)          0\n",
      "Volume_(Currency)     0\n",
      "Weighted_Price       87\n",
      "dtype: int64\n"
     ]
    }
   ],
   "source": [
    "print(new_df.isnull().sum())"
   ]
  },
  {
   "cell_type": "code",
   "execution_count": 158,
   "metadata": {},
   "outputs": [
    {
     "data": {
      "image/png": "[encoded data removed]",
      "text/plain": [
       "<Figure size 432x288 with 3 Axes>"
      ]
     },
     "metadata": {
      "needs_background": "light"
     },
     "output_type": "display_data"
    }
   ],
   "source": [
    "plot_cols = ['Volume_(BTC)', 'Volume_(Currency)', 'Weighted_Price']\n",
    "plot_features = new_df[plot_cols]\n",
    "plot_features.index = new_df.index\n",
    "_ = plot_features.plot(subplots=True)"
   ]
  },
  {
   "cell_type": "code",
   "execution_count": 159,
   "metadata": {
    "scrolled": false
   },
   "outputs": [
    {
     "data": {
      "image/png": "[encoded data removed]",
      "text/plain": [
       "<Figure size 1296x1296 with 2 Axes>"
      ]
     },
     "metadata": {
      "needs_background": "light"
     },
     "output_type": "display_data"
    }
   ],
   "source": [
    "f,ax = plt.subplots(figsize=(18, 18))\n",
    "sns.heatmap(new_df.corr(), annot=True, linewidths=.5, fmt= '.1f',ax=ax)\n",
    "plt.show()"
   ]
  },
  {
   "cell_type": "code",
   "execution_count": 160,
   "metadata": {},
   "outputs": [],
   "source": [
    "days = 730\n",
    "split_time = int(days*0.8*24) # length of training dataset\n",
    "\n",
    "n = len(new_df)\n",
    "\n",
    "train_df = new_df[0:int(n*0.7)]\n",
    "val_df = new_df[int(n*0.7):int(n*0.9)]\n",
    "test_df = new_df[int(n*0.9):]\n",
    "\n",
    "train_mean = new_df[:split_time].mean()\n",
    "train_std = new_df[:split_time].std()\n",
    "train_df = (train_df - train_mean) / train_std\n",
    "val_df = (val_df - train_mean) / train_std\n",
    "test_df = (test_df - train_mean) / train_std"
   ]
  },
  {
   "cell_type": "code",
   "execution_count": 161,
   "metadata": {},
   "outputs": [
    {
     "data": {
      "image/png": "[encoded data removed]",
      "text/plain": [
       "<Figure size 864x432 with 1 Axes>"
      ]
     },
     "metadata": {
      "needs_background": "light"
     },
     "output_type": "display_data"
    }
   ],
   "source": [
    "df_std = (new_df - train_mean) / train_std\n",
    "df_std = df_std.melt(var_name='Column', value_name='Normalized')\n",
    "plt.figure(figsize=(12, 6))\n",
    "ax = sns.violinplot(x='Column', y='Normalized', data=df_std)\n",
    "_ = ax.set_xticklabels(new_df.keys(), rotation=90)"
   ]
  },
  {
   "cell_type": "code",
   "execution_count": 162,
   "metadata": {},
   "outputs": [],
   "source": [
    "class WindowGenerator():\n",
    "  def __init__(self, input_width, label_width, shift,\n",
    "               train_df=train_df, val_df=val_df, test_df=test_df,\n",
    "               label_columns=None):\n",
    "    # Store the raw data.\n",
    "    self.train_df = train_df\n",
    "    self.val_df = val_df\n",
    "    self.test_df = test_df\n",
    "\n",
    "    # Work out the label column indices.\n",
    "    self.label_columns = label_columns\n",
    "    if label_columns is not None:\n",
    "      self.label_columns_indices = {name: i for i, name in\n",
    "                                    enumerate(label_columns)}\n",
    "    self.column_indices = {name: i for i, name in\n",
    "                           enumerate(train_df.columns)}\n",
    "\n",
    "    # Work out the window parameters.\n",
    "    self.input_width = input_width\n",
    "    self.label_width = label_width\n",
    "    self.shift = shift\n",
    "\n",
    "    self.total_window_size = input_width + shift\n",
    "\n",
    "    self.input_slice = slice(0, input_width)\n",
    "    self.input_indices = np.arange(self.total_window_size)[self.input_slice]\n",
    "\n",
    "    self.label_start = self.total_window_size - self.label_width\n",
    "    self.labels_slice = slice(self.label_start, None)\n",
    "    self.label_indices = np.arange(self.total_window_size)[self.labels_slice]\n",
    "\n",
    "  def __repr__(self):\n",
    "    return '\\n'.join([\n",
    "        f'Total window size: {self.total_window_size}',\n",
    "        f'Input indices: {self.input_indices}',\n",
    "        f'Label indices: {self.label_indices}',\n",
    "        f'Label column name(s): {self.label_columns}'])"
   ]
  },
  {
   "cell_type": "code",
   "execution_count": 163,
   "metadata": {},
   "outputs": [
    {
     "data": {
      "text/plain": [
       "Total window size: 48\n",
       "Input indices: [ 0  1  2  3  4  5  6  7  8  9 10 11 12 13 14 15 16 17 18 19 20 21 22 23]\n",
       "Label indices: [47]\n",
       "Label column name(s): ['Close']"
      ]
     },
     "execution_count": 163,
     "metadata": {},
     "output_type": "execute_result"
    }
   ],
   "source": [
    "w2 = WindowGenerator(input_width=24, label_width=1, shift=24,\n",
    "                     label_columns=['Close'])\n",
    "w2"
   ]
  },
  {
   "cell_type": "code",
   "execution_count": 164,
   "metadata": {},
   "outputs": [],
   "source": [
    "    def split_window(self, features):\n",
    "      inputs = features[:, self.input_slice, :]\n",
    "      labels = features[:, self.labels_slice, :]\n",
    "      if self.label_columns is not None:\n",
    "        labels = tf.stack(\n",
    "            [labels[:, :, self.column_indices[name]] for name in self.label_columns],\n",
    "            axis=-1)\n",
    "\n",
    "      # Slicing doesn't preserve static shape information, so set the shapes\n",
    "      # manually. This way the `tf.data.Datasets` are easier to inspect.\n",
    "      inputs.set_shape([None, self.input_width, None])\n",
    "      labels.set_shape([None, self.label_width, None])\n",
    "\n",
    "      return inputs, labels\n",
    "\n",
    "WindowGenerator.split_window = split_window"
   ]
  },
  {
   "cell_type": "code",
   "execution_count": 165,
   "metadata": {},
   "outputs": [
    {
     "name": "stdout",
     "output_type": "stream",
     "text": [
      "All shapes are: (batch, time, features)\n",
      "Window shape: (3, 48, 7)\n",
      "Inputs shape: (3, 24, 7)\n",
      "labels shape: (3, 1, 1)\n"
     ]
    }
   ],
   "source": [
    "example_window = tf.stack([np.array(train_df[:w2.total_window_size]),\n",
    "                           np.array(train_df[100:100+w2.total_window_size]),\n",
    "                           np.array(train_df[200:200+w2.total_window_size])])\n",
    "\n",
    "\n",
    "example_inputs, example_labels = w2.split_window(example_window)\n",
    "\n",
    "print('All shapes are: (batch, time, features)')\n",
    "print(f'Window shape: {example_window.shape}')\n",
    "print(f'Inputs shape: {example_inputs.shape}')\n",
    "print(f'labels shape: {example_labels.shape}')"
   ]
  },
  {
   "cell_type": "code",
   "execution_count": 166,
   "metadata": {},
   "outputs": [],
   "source": [
    "w2.example = example_inputs, example_labels"
   ]
  },
  {
   "cell_type": "code",
   "execution_count": 167,
   "metadata": {},
   "outputs": [],
   "source": [
    "    def plot(self, model=None, plot_col='Close', max_subplots=3):\n",
    "      inputs, labels = self.example\n",
    "      plt.figure(figsize=(12, 8))\n",
    "      plot_col_index = self.column_indices[plot_col]\n",
    "      max_n = min(max_subplots, len(inputs))\n",
    "      for n in range(max_n):\n",
    "        plt.subplot(3, 1, n+1)\n",
    "        plt.ylabel(f'{plot_col} [normed]')\n",
    "        plt.plot(self.input_indices, inputs[n, :, plot_col_index],\n",
    "                 label='Inputs', marker='.', zorder=-10)\n",
    "\n",
    "        if self.label_columns:\n",
    "          label_col_index = self.label_columns_indices.get(plot_col, None)\n",
    "        else:\n",
    "          label_col_index = plot_col_index\n",
    "\n",
    "        if label_col_index is None:\n",
    "          continue\n",
    "\n",
    "        plt.scatter(self.label_indices, labels[n, :, label_col_index],\n",
    "                    edgecolors='k', label='Labels', c='#2ca02c', s=64)\n",
    "        if model is not None:\n",
    "          predictions = model(inputs)\n",
    "          plt.scatter(self.label_indices, predictions[n, :, label_col_index],\n",
    "                      marker='X', edgecolors='k', label='Predictions',\n",
    "                      c='#ff7f0e', s=64)\n",
    "\n",
    "        if n == 0:\n",
    "          plt.legend()\n",
    "\n",
    "      plt.xlabel('Close')\n",
    "\n",
    "WindowGenerator.plot = plot\n"
   ]
  },
  {
   "cell_type": "code",
   "execution_count": 168,
   "metadata": {},
   "outputs": [
    {
     "data": {
      "image/png": "[encoded data removed]",
      "text/plain": [
       "<Figure size 864x576 with 3 Axes>"
      ]
     },
     "metadata": {
      "needs_background": "light"
     },
     "output_type": "display_data"
    }
   ],
   "source": [
    "w2.plot()"
   ]
  },
  {
   "cell_type": "code",
   "execution_count": 169,
   "metadata": {},
   "outputs": [],
   "source": [
    "    def make_dataset(self, data):\n",
    "      data = np.array(data, dtype=np.float32)\n",
    "      ds = tf.keras.preprocessing.timeseries_dataset_from_array(\n",
    "          data=data,\n",
    "          targets=None,\n",
    "          sequence_length=self.total_window_size,\n",
    "          sequence_stride=1,\n",
    "          shuffle=True,\n",
    "          batch_size=32,)\n",
    "\n",
    "      ds = ds.map(self.split_window)\n",
    "\n",
    "      return ds\n",
    "\n",
    "WindowGenerator.make_dataset = make_dataset"
   ]
  },
  {
   "cell_type": "code",
   "execution_count": 170,
   "metadata": {},
   "outputs": [],
   "source": [
    "    @property\n",
    "    def train(self):\n",
    "      return self.make_dataset(self.train_df)\n",
    "\n",
    "    @property\n",
    "    def val(self):\n",
    "      return self.make_dataset(self.val_df)\n",
    "\n",
    "    @property\n",
    "    def test(self):\n",
    "      return self.make_dataset(self.test_df)\n",
    "\n",
    "    @property\n",
    "    def example(self):\n",
    "      \"\"\"Get and cache an example batch of `inputs, labels` for plotting.\"\"\"\n",
    "      result = getattr(self, '_example', None)\n",
    "      if result is None:\n",
    "        # No example batch was found, so get one from the `.train` dataset\n",
    "        result = next(iter(self.train))\n",
    "        # And cache it for next time\n",
    "        self._example = result\n",
    "      return result\n",
    "\n",
    "WindowGenerator.train = train\n",
    "WindowGenerator.val = val\n",
    "WindowGenerator.test = test\n",
    "WindowGenerator.example = example"
   ]
  },
  {
   "cell_type": "code",
   "execution_count": 171,
   "metadata": {},
   "outputs": [
    {
     "ename": "AttributeError",
     "evalue": "module 'tensorflow.keras.preprocessing' has no attribute 'timeseries_dataset_from_array'",
     "output_type": "error",
     "traceback": [
      "\u001b[0;31m---------------------------------------------------------------------------\u001b[0m",
      "\u001b[0;31mAttributeError\u001b[0m                            Traceback (most recent call last)",
      "\u001b[0;32m<ipython-input-171-0e68ae5d06dc>\u001b[0m in \u001b[0;36m<module>\u001b[0;34m\u001b[0m\n\u001b[0;32m----> 1\u001b[0;31m \u001b[0mw2\u001b[0m\u001b[0;34m.\u001b[0m\u001b[0mtrain\u001b[0m\u001b[0;34m.\u001b[0m\u001b[0melement_spec\u001b[0m\u001b[0;34m\u001b[0m\u001b[0;34m\u001b[0m\u001b[0m\n\u001b[0m",
      "\u001b[0;32m<ipython-input-170-fa9c97d26d90>\u001b[0m in \u001b[0;36mtrain\u001b[0;34m(self)\u001b[0m\n\u001b[1;32m      1\u001b[0m \u001b[0;34m@\u001b[0m\u001b[0mproperty\u001b[0m\u001b[0;34m\u001b[0m\u001b[0;34m\u001b[0m\u001b[0m\n\u001b[1;32m      2\u001b[0m \u001b[0;32mdef\u001b[0m \u001b[0mtrain\u001b[0m\u001b[0;34m(\u001b[0m\u001b[0mself\u001b[0m\u001b[0;34m)\u001b[0m\u001b[0;34m:\u001b[0m\u001b[0;34m\u001b[0m\u001b[0;34m\u001b[0m\u001b[0m\n\u001b[0;32m----> 3\u001b[0;31m   \u001b[0;32mreturn\u001b[0m \u001b[0mself\u001b[0m\u001b[0;34m.\u001b[0m\u001b[0mmake_dataset\u001b[0m\u001b[0;34m(\u001b[0m\u001b[0mself\u001b[0m\u001b[0;34m.\u001b[0m\u001b[0mtrain_df\u001b[0m\u001b[0;34m)\u001b[0m\u001b[0;34m\u001b[0m\u001b[0;34m\u001b[0m\u001b[0m\n\u001b[0m\u001b[1;32m      4\u001b[0m \u001b[0;34m\u001b[0m\u001b[0m\n\u001b[1;32m      5\u001b[0m \u001b[0;34m@\u001b[0m\u001b[0mproperty\u001b[0m\u001b[0;34m\u001b[0m\u001b[0;34m\u001b[0m\u001b[0m\n",
      "\u001b[0;32m<ipython-input-169-0863ffc3e807>\u001b[0m in \u001b[0;36mmake_dataset\u001b[0;34m(self, data)\u001b[0m\n\u001b[1;32m      1\u001b[0m \u001b[0;32mdef\u001b[0m \u001b[0mmake_dataset\u001b[0m\u001b[0;34m(\u001b[0m\u001b[0mself\u001b[0m\u001b[0;34m,\u001b[0m \u001b[0mdata\u001b[0m\u001b[0;34m)\u001b[0m\u001b[0;34m:\u001b[0m\u001b[0;34m\u001b[0m\u001b[0;34m\u001b[0m\u001b[0m\n\u001b[1;32m      2\u001b[0m   \u001b[0mdata\u001b[0m \u001b[0;34m=\u001b[0m \u001b[0mnp\u001b[0m\u001b[0;34m.\u001b[0m\u001b[0marray\u001b[0m\u001b[0;34m(\u001b[0m\u001b[0mdata\u001b[0m\u001b[0;34m,\u001b[0m \u001b[0mdtype\u001b[0m\u001b[0;34m=\u001b[0m\u001b[0mnp\u001b[0m\u001b[0;34m.\u001b[0m\u001b[0mfloat32\u001b[0m\u001b[0;34m)\u001b[0m\u001b[0;34m\u001b[0m\u001b[0;34m\u001b[0m\u001b[0m\n\u001b[0;32m----> 3\u001b[0;31m   ds = tf.keras.preprocessing.timeseries_dataset_from_array(\n\u001b[0m\u001b[1;32m      4\u001b[0m       \u001b[0mdata\u001b[0m\u001b[0;34m=\u001b[0m\u001b[0mdata\u001b[0m\u001b[0;34m,\u001b[0m\u001b[0;34m\u001b[0m\u001b[0;34m\u001b[0m\u001b[0m\n\u001b[1;32m      5\u001b[0m       \u001b[0mtargets\u001b[0m\u001b[0;34m=\u001b[0m\u001b[0;32mNone\u001b[0m\u001b[0;34m,\u001b[0m\u001b[0;34m\u001b[0m\u001b[0;34m\u001b[0m\u001b[0m\n",
      "\u001b[0;31mAttributeError\u001b[0m: module 'tensorflow.keras.preprocessing' has no attribute 'timeseries_dataset_from_array'"
     ]
    }
   ],
   "source": [
    "w2.train.element_spec"
   ]
  },
  {
   "cell_type": "code",
   "execution_count": null,
   "metadata": {},
   "outputs": [],
   "source": []
  },
  {
   "cell_type": "code",
   "execution_count": 60,
   "metadata": {},
   "outputs": [
    {
     "name": "stdout",
     "output_type": "stream",
     "text": [
      "Epoch 1/50\n",
      "140/140 [==============================] - 23s 161ms/step - loss: 8.2305 - mae: 8.7195\n",
      "Epoch 2/50\n",
      "140/140 [==============================] - 22s 160ms/step - loss: 8.5630 - mae: 9.0511\n",
      "Epoch 3/50\n",
      "140/140 [==============================] - 23s 161ms/step - loss: 4.3797 - mae: 4.7859\n",
      "Epoch 4/50\n",
      "140/140 [==============================] - 22s 158ms/step - loss: 5.0028 - mae: 5.4183\n",
      "Epoch 5/50\n",
      "140/140 [==============================] - 34s 241ms/step - loss: 2.9742 - mae: 3.3804\n",
      "Epoch 6/50\n",
      "140/140 [==============================] - 65s 462ms/step - loss: 2.3447 - mae: 2.7398\n",
      "Epoch 7/50\n",
      "140/140 [==============================] - 46s 328ms/step - loss: 2.5049 - mae: 2.8341\n",
      "Epoch 8/50\n",
      "140/140 [==============================] - 36s 259ms/step - loss: 2.5085 - mae: 2.9024\n",
      "Epoch 9/50\n",
      "140/140 [==============================] - 30s 216ms/step - loss: 2.0895 - mae: 2.4997\n",
      "Epoch 10/50\n",
      "140/140 [==============================] - 31s 222ms/step - loss: 1.8281 - mae: 2.2895\n",
      "Epoch 11/50\n",
      "140/140 [==============================] - 30s 212ms/step - loss: 1.4346 - mae: 1.7218\n",
      "Epoch 12/50\n",
      "140/140 [==============================] - 30s 215ms/step - loss: 2.2425 - mae: 2.5610\n",
      "Epoch 13/50\n",
      "140/140 [==============================] - 30s 211ms/step - loss: 1.7724 - mae: 2.2393\n",
      "Epoch 14/50\n",
      "140/140 [==============================] - 32s 228ms/step - loss: 1.5245 - mae: 1.8658\n",
      "Epoch 15/50\n",
      "140/140 [==============================] - 28s 197ms/step - loss: 2.6573 - mae: 3.1006\n",
      "Epoch 16/50\n",
      "140/140 [==============================] - 31s 218ms/step - loss: 1.9393 - mae: 2.2918\n",
      "Epoch 17/50\n",
      "140/140 [==============================] - 29s 210ms/step - loss: 1.8463 - mae: 2.1832\n",
      "Epoch 18/50\n",
      "140/140 [==============================] - 26s 185ms/step - loss: 2.3179 - mae: 2.6964\n",
      "Epoch 19/50\n",
      "140/140 [==============================] - 23s 166ms/step - loss: 1.9029 - mae: 2.3262\n",
      "Epoch 20/50\n",
      "140/140 [==============================] - 24s 171ms/step - loss: 1.5406 - mae: 1.9188\n",
      "Epoch 21/50\n",
      "140/140 [==============================] - 23s 164ms/step - loss: 1.9806 - mae: 2.3622\n",
      "Epoch 22/50\n",
      "140/140 [==============================] - 24s 171ms/step - loss: 1.1114 - mae: 1.4278\n",
      "Epoch 23/50\n",
      "140/140 [==============================] - 23s 167ms/step - loss: 1.2399 - mae: 1.5898\n",
      "Epoch 24/50\n",
      "140/140 [==============================] - 23s 166ms/step - loss: 0.9520 - mae: 1.2404\n",
      "Epoch 25/50\n",
      "140/140 [==============================] - 24s 174ms/step - loss: 1.0062 - mae: 1.2737\n",
      "Epoch 26/50\n",
      "140/140 [==============================] - 25s 177ms/step - loss: 0.9277 - mae: 1.2427\n",
      "Epoch 27/50\n",
      "140/140 [==============================] - 23s 163ms/step - loss: 0.8448 - mae: 1.1250\n",
      "Epoch 28/50\n",
      "140/140 [==============================] - 25s 180ms/step - loss: 1.8098 - mae: 2.1386\n",
      "Epoch 29/50\n",
      "140/140 [==============================] - 23s 164ms/step - loss: 2.1624 - mae: 2.6427\n",
      "Epoch 30/50\n",
      "140/140 [==============================] - 24s 173ms/step - loss: 1.0979 - mae: 1.4492\n",
      "Epoch 31/50\n",
      "140/140 [==============================] - 24s 174ms/step - loss: 1.5595 - mae: 1.8946\n",
      "Epoch 32/50\n",
      "140/140 [==============================] - 24s 170ms/step - loss: 1.4137 - mae: 1.7435\n",
      "Epoch 33/50\n",
      "140/140 [==============================] - 25s 181ms/step - loss: 1.8849 - mae: 2.2321\n",
      "Epoch 34/50\n",
      "140/140 [==============================] - 34s 243ms/step - loss: 0.9388 - mae: 1.2330\n",
      "Epoch 35/50\n",
      "140/140 [==============================] - 28s 202ms/step - loss: 1.5605 - mae: 1.8997\n",
      "Epoch 36/50\n",
      "140/140 [==============================] - 26s 184ms/step - loss: 0.9224 - mae: 1.2385\n",
      "Epoch 37/50\n",
      "140/140 [==============================] - 23s 167ms/step - loss: 0.7559 - mae: 1.0627\n",
      "Epoch 38/50\n",
      "140/140 [==============================] - 23s 167ms/step - loss: 1.0653 - mae: 1.3838\n",
      "Epoch 39/50\n",
      "140/140 [==============================] - 24s 172ms/step - loss: 1.6945 - mae: 2.0277\n",
      "Epoch 40/50\n",
      "140/140 [==============================] - 24s 169ms/step - loss: 1.3886 - mae: 1.6757\n",
      "Epoch 41/50\n",
      "140/140 [==============================] - 23s 161ms/step - loss: 2.0550 - mae: 2.4308\n",
      "Epoch 42/50\n",
      "140/140 [==============================] - 23s 161ms/step - loss: 1.0153 - mae: 1.4382\n",
      "Epoch 43/50\n",
      "140/140 [==============================] - 24s 172ms/step - loss: 1.1794 - mae: 1.5116\n",
      "Epoch 44/50\n",
      "140/140 [==============================] - 23s 166ms/step - loss: 1.3740 - mae: 1.7562\n",
      "Epoch 45/50\n",
      "140/140 [==============================] - 23s 167ms/step - loss: 0.9014 - mae: 1.2086\n",
      "Epoch 46/50\n",
      "140/140 [==============================] - 23s 164ms/step - loss: 0.7097 - mae: 0.9866\n",
      "Epoch 47/50\n",
      "140/140 [==============================] - 23s 166ms/step - loss: 0.7877 - mae: 1.1001\n",
      "Epoch 48/50\n",
      "140/140 [==============================] - 24s 171ms/step - loss: 0.7855 - mae: 1.1025\n",
      "Epoch 49/50\n",
      "140/140 [==============================] - 23s 163ms/step - loss: 0.7470 - mae: 1.0322\n",
      "Epoch 50/50\n",
      "140/140 [==============================] - 23s 165ms/step - loss: 2.5469 - mae: 2.9295\n"
     ]
    }
   ],
   "source": [
    "tf.keras.backend.clear_session()\n",
    "tf.random.set_seed(51)\n",
    "np.random.seed(51)\n",
    "train_set = windowed_dataset(x_train, window_size=60, batch_size=100, shuffle_buffer=shuffle_buffer_size)\n",
    "model = tf.keras.models.Sequential([\n",
    "  tf.keras.layers.Conv1D(filters=60, kernel_size=5,\n",
    "                      strides=1, padding=\"causal\",\n",
    "                      activation=\"relu\",\n",
    "                      input_shape=[None, 1]),\n",
    "  tf.keras.layers.LSTM(60, return_sequences=True),\n",
    "  tf.keras.layers.LSTM(60, return_sequences=True),\n",
    "  tf.keras.layers.Dense(30, activation=\"relu\"),\n",
    "  tf.keras.layers.Dense(10, activation=\"relu\"),\n",
    "  tf.keras.layers.Dense(1),\n",
    "  tf.keras.layers.Lambda(lambda x: x * 400)\n",
    "])\n",
    "\n",
    "\n",
    "optimizer = tf.keras.optimizers.SGD(lr=1e-5, momentum=0.9)\n",
    "model.compile(loss=tf.keras.losses.Huber(),\n",
    "              optimizer=optimizer,\n",
    "              metrics=[\"mae\"])\n",
    "history = model.fit(train_set,epochs=50)"
   ]
  },
  {
   "cell_type": "code",
   "execution_count": 61,
   "metadata": {},
   "outputs": [
    {
     "name": "stderr",
     "output_type": "stream",
     "text": [
      "/home/juan/Descargas/quit/envs/Correlation-One/lib/python3.7/site-packages/ipykernel_launcher.py:1: FutureWarning: Support for multi-dimensional indexing (e.g. `obj[:, None]`) is deprecated and will be removed in a future version.  Convert to a numpy array before indexing instead.\n",
      "  \"\"\"Entry point for launching an IPython kernel.\n"
     ]
    }
   ],
   "source": [
    "rnn_forecast = model_forecast(model, series[:, np.newaxis], window_size)\n",
    "rnn_forecast = rnn_forecast[split_time - window_size:-1, -1, 0]"
   ]
  },
  {
   "cell_type": "code",
   "execution_count": 62,
   "metadata": {},
   "outputs": [],
   "source": [
    "import numpy as np\n",
    "import matplotlib.pyplot as plt\n",
    "def plot_series(time, series, format=\"-\", start=0, end=None):\n",
    "    plt.plot(time[start:end], series[start:end], format)\n",
    "    plt.xlabel(\"Time\")\n",
    "    plt.ylabel(\"Value\")\n",
    "    plt.grid(True)"
   ]
  },
  {
   "cell_type": "code",
   "execution_count": 70,
   "metadata": {},
   "outputs": [
    {
     "data": {
      "image/png": "[encoded data removed]",
      "text/plain": [
       "<Figure size 720x432 with 1 Axes>"
      ]
     },
     "metadata": {
      "needs_background": "light"
     },
     "output_type": "display_data"
    }
   ],
   "source": [
    "plt.figure(figsize=(10, 6))\n",
    "plot_series(time_valid, x_valid/100)\n",
    "plot_series(time_valid, rnn_forecast)"
   ]
  },
  {
   "cell_type": "code",
   "execution_count": null,
   "metadata": {},
   "outputs": [],
   "source": [
    "tf.keras.metrics.mean_absolute_error(x_valid, rnn_forecast).numpy()"
   ]
  },
  {
   "cell_type": "code",
   "execution_count": null,
   "metadata": {},
   "outputs": [],
   "source": [
    "import matplotlib.image  as mpimg\n",
    "import matplotlib.pyplot as plt\n",
    "\n",
    "#-----------------------------------------------------------\n",
    "# Retrieve a list of list results on training and test data\n",
    "# sets for each training epoch\n",
    "#-----------------------------------------------------------\n",
    "loss=history.history['loss']\n",
    "\n",
    "epochs=range(len(loss)) # Get number of epochs\n",
    "\n",
    "\n",
    "#------------------------------------------------\n",
    "# Plot training and validation loss per epoch\n",
    "#------------------------------------------------\n",
    "plt.plot(epochs, loss, 'r')\n",
    "plt.title('Training loss')\n",
    "plt.xlabel(\"Epochs\")\n",
    "plt.ylabel(\"Loss\")\n",
    "plt.legend([\"Loss\"])\n",
    "\n",
    "plt.figure()\n",
    "\n",
    "\n",
    "\n",
    "zoomed_loss = loss[200:]\n",
    "zoomed_epochs = range(200,500)\n",
    "\n",
    "\n",
    "#------------------------------------------------\n",
    "# Plot training and validation loss per epoch\n",
    "#------------------------------------------------\n",
    "plt.plot(zoomed_epochs, zoomed_loss, 'r')\n",
    "plt.title('Training loss')\n",
    "plt.xlabel(\"Epochs\")\n",
    "plt.ylabel(\"Loss\")\n",
    "plt.legend([\"Loss\"])\n",
    "\n",
    "plt.figure()"
   ]
  },
  {
   "cell_type": "code",
   "execution_count": null,
   "metadata": {},
   "outputs": [],
   "source": []
  },
  {
   "cell_type": "code",
   "execution_count": null,
   "metadata": {},
   "outputs": [],
   "source": []
  }
 ],
 "metadata": {
  "kernelspec": {
   "display_name": "Python 3",
   "language": "python",
   "name": "python3"
  },
  "language_info": {
   "codemirror_mode": {
    "name": "ipython",
    "version": 3
   },
   "file_extension": ".py",
   "mimetype": "text/x-python",
   "name": "python",
   "nbconvert_exporter": "python",
   "pygments_lexer": "ipython3",
   "version": "3.7.7"
  }
 },
 "nbformat": 4,
 "nbformat_minor": 4
}
